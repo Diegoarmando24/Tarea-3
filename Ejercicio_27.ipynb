{
  "nbformat": 4,
  "nbformat_minor": 0,
  "metadata": {
    "colab": {
      "provenance": [],
      "authorship_tag": "ABX9TyOlfzT5IuMK+Qe6k33c8Vm7",
      "include_colab_link": true
    },
    "kernelspec": {
      "name": "python3",
      "display_name": "Python 3"
    },
    "language_info": {
      "name": "python"
    }
  },
  "cells": [
    {
      "cell_type": "markdown",
      "metadata": {
        "id": "view-in-github",
        "colab_type": "text"
      },
      "source": [
        "<a href=\"https://colab.research.google.com/github/Diegoarmando24/Tarea-3/blob/main/Ejercicio_27.ipynb\" target=\"_parent\"><img src=\"https://colab.research.google.com/assets/colab-badge.svg\" alt=\"Open In Colab\"/></a>"
      ]
    },
    {
      "cell_type": "code",
      "execution_count": 1,
      "metadata": {
        "colab": {
          "base_uri": "https://localhost:8080/"
        },
        "id": "IoKfkf7mrQJy",
        "outputId": "43474c67-fc30-49f9-bbc9-cca0b8aa6e76"
      },
      "outputs": [
        {
          "output_type": "execute_result",
          "data": {
            "text/plain": [
              "[0.0, 0.0, 1.0]"
            ]
          },
          "metadata": {},
          "execution_count": 1
        }
      ],
      "source": [
        "# Reescribimos el código sin usar funciones \"avanzadas\" de NumPy como solve o QR.\n",
        "# Implementaremos manualmente lo básico y simplificaremos operaciones.\n",
        "\n",
        "def dot(u, v):\n",
        "    return sum(ui * vi for ui, vi in zip(u, v))\n",
        "\n",
        "def mat_transpose(M):\n",
        "    return list(map(list, zip(*M)))\n",
        "\n",
        "def mat_mult(A, B):\n",
        "    return [[dot(row, col) for col in zip(*B)] for row in A]\n",
        "\n",
        "def mat_vec_mult(A, x):\n",
        "    return [dot(row, x) for row in A]\n",
        "\n",
        "def back_substitution(U, y):\n",
        "    n = len(y)\n",
        "    x = [0] * n\n",
        "    for i in reversed(range(n)):\n",
        "        x[i] = (y[i] - sum(U[i][j] * x[j] for j in range(i + 1, n))) / U[i][i]\n",
        "    return x\n",
        "\n",
        "# Método de Ecuaciones Normales con solo listas\n",
        "def solve_normal_basic(A, b):\n",
        "    At = mat_transpose(A)\n",
        "    AtA = mat_mult(At, A)\n",
        "    Atb = mat_vec_mult(At, b)\n",
        "    return back_substitution(AtA, Atb)  # suponemos triangular superior\n",
        "\n",
        "# Intentamos con epsilon moderado para que AtA no sea exactamente singular\n",
        "eps_test = 1e-8\n",
        "A_basic = [\n",
        "    [1, 1, 1],\n",
        "    [eps_test, 0, 0],\n",
        "    [0, eps_test, 0],\n",
        "    [0, 0, eps_test]\n",
        "]\n",
        "b_basic = [1, 0, 0, 0]\n",
        "\n",
        "x_normal_basic = solve_normal_basic(A_basic, b_basic)\n",
        "x_normal_basic\n"
      ]
    }
  ]
}