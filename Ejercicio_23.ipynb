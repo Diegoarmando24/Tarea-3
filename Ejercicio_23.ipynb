{
  "nbformat": 4,
  "nbformat_minor": 0,
  "metadata": {
    "colab": {
      "provenance": [],
      "authorship_tag": "ABX9TyNsc32Eij6YEAL0gmrvv8Jb",
      "include_colab_link": true
    },
    "kernelspec": {
      "name": "python3",
      "display_name": "Python 3"
    },
    "language_info": {
      "name": "python"
    }
  },
  "cells": [
    {
      "cell_type": "markdown",
      "metadata": {
        "id": "view-in-github",
        "colab_type": "text"
      },
      "source": [
        "<a href=\"https://colab.research.google.com/github/Diegoarmando24/Tarea-3/blob/main/Ejercicio_23.ipynb\" target=\"_parent\"><img src=\"https://colab.research.google.com/assets/colab-badge.svg\" alt=\"Open In Colab\"/></a>"
      ]
    },
    {
      "cell_type": "code",
      "execution_count": null,
      "metadata": {
        "id": "AHjJgmfJsbWO"
      },
      "outputs": [],
      "source": [
        "import numpy as np\n",
        "\n",
        "#Matriz A\n",
        "A = np.array([\n",
        "    [0.16, 0.10],\n",
        "    [0.17, 0.11],\n",
        "    [2.02, 1.29]\n",
        "])\n",
        "\n",
        "b1 = np.array([0.26, 0.28, 3.31])\n",
        "b2 = np.array([0.27, 0.25, 3.33])\n",
        "\n",
        "# --- Ecuaciones normales: Aᵗ A y Aᵗ b ---\n",
        "def ecuaciones_normales(A, b):\n",
        "    # Transpuesta de A\n",
        "    At = np.array([\n",
        "        [A[0][0], A[1][0], A[2][0]],\n",
        "        [A[0][1], A[1][1], A[2][1]]\n",
        "    ])\n",
        "\n",
        "    # Producto AtA\n",
        "    AtA = [\n",
        "        [0, 0],\n",
        "        [0, 0]\n",
        "    ]\n",
        "    for i in range(2):\n",
        "        for j in range(2):\n",
        "            AtA[i][j] = sum(At[i][k] * A[k][j] for k in range(3))\n",
        "\n",
        "    # Producto At b\n",
        "    Atb = [0, 0]\n",
        "    for i in range(2):\n",
        "        Atb[i] = sum(At[i][k] * b[k] for k in range(3))\n",
        "\n",
        "    # Resolver el sistema 2x2\n",
        "    a, b_, c, d = AtA[0][0], AtA[0][1], AtA[1][0], AtA[1][1]\n",
        "    e, f = Atb[0], Atb[1]\n",
        "\n",
        "    # Determinante\n",
        "    det = a * d - b_ * c\n",
        "    if det == 0:\n",
        "        print(\"Sistema sin solución única\")\n",
        "        return None\n",
        "\n",
        "\n",
        "    x1 = (e * d - b_ * f) / det\n",
        "    x2 = (a * f - e * c) / det\n",
        "\n",
        "    return [x1, x2]\n",
        "\n",
        "# --- Inciso (a) ---\n",
        "x1 = ecuaciones_normales(A, b1)\n",
        "print(\"Inciso (a): Solución x1 =\", x1)\n",
        "\n",
        "# --- Inciso (b) ---\n",
        "x2 = ecuaciones_normales(A, b2)\n",
        "print(\"Inciso (b): Solución x2 =\", x2)\n",
        "\n",
        "# --- Inciso (c) ---\n",
        "dx = [x2[i] - x1[i] for i in range(2)]\n",
        "print(\"Inciso (c): Diferencia x2 - x1 =\", dx)\n"
      ]
    }
  ]
}