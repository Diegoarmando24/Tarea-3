{
  "nbformat": 4,
  "nbformat_minor": 0,
  "metadata": {
    "colab": {
      "provenance": [],
      "authorship_tag": "ABX9TyNCrw+/k1GTUc6YQnswBviM",
      "include_colab_link": true
    },
    "kernelspec": {
      "name": "python3",
      "display_name": "Python 3"
    },
    "language_info": {
      "name": "python"
    }
  },
  "cells": [
    {
      "cell_type": "markdown",
      "metadata": {
        "id": "view-in-github",
        "colab_type": "text"
      },
      "source": [
        "<a href=\"https://colab.research.google.com/github/Diegoarmando24/Tarea-3/blob/main/Ejercicio_22.ipynb\" target=\"_parent\"><img src=\"https://colab.research.google.com/assets/colab-badge.svg\" alt=\"Open In Colab\"/></a>"
      ]
    },
    {
      "cell_type": "code",
      "execution_count": null,
      "metadata": {
        "id": "mhwjZAFcv_Bt"
      },
      "outputs": [],
      "source": [
        "import numpy as np\n",
        "import math\n",
        "\n",
        "# Matriz A y vector b original según el problema (ecuación (1))\n",
        "A = np.array([\n",
        "    [ 1.0,  1.0],\n",
        "    [-1.0,  0.0],\n",
        "    [ 0.0,  1.0],\n",
        "    [ 1.0,  0.0]\n",
        "])\n",
        "\n",
        "b = np.array([-1.0,  2.0, -1.0,  1.0])\n",
        "\n",
        "print(\"Matriz A:\")\n",
        "print(A)\n",
        "print(\"Vector b:\")\n",
        "print(b)\n",
        "\n",
        "# Aquí debes sustituir estos vectores por los b̃_i que obtuviste en los incisos 16–19\n",
        "b_tilde_tri = np.array([...], dtype=float)  # de Triangulación (M b)\n",
        "b_tilde_en  = np.array([...], dtype=float)  # de Ecuaciones Normales (A^T A x = A^T b)\n",
        "b_tilde_hh  = np.array([...], dtype=float)  # de Householder (Q^T b)\n",
        "b_tilde_giv = np.array([...], dtype=float)  # de Givens (Q^T b)\n",
        "b_tilde_gs  = np.array([...], dtype=float)  # de Gram-Schmidt (Q^T b)\n",
        "\n",
        "# Función auxiliar para 1/cos(θ_i)\n",
        "def inv_cos_angle(b_tilde, x):\n",
        "    Ax = A.dot(x)\n",
        "    cos_theta = np.dot(b_tilde, Ax) / (np.linalg.norm(b_tilde) * np.linalg.norm(Ax))\n",
        "    return 1.0 / cos_theta\n",
        "\n",
        "# Ejemplo: resolver x_tipo usando el b̃ correspondiente\n",
        "# --- Triangulación via Cholesky (para A^T A si fuera SPD) ----\n",
        "# L = np.linalg.cholesky(A.T @ A)\n",
        "# y = np.linalg.solve(L, A.T @ b)\n",
        "# x_en = np.linalg.solve(L.T, y)\n",
        "\n",
        "# --- QR (Householder) ----\n",
        "# Q, R = np.linalg.qr(A)\n",
        "# x_hh = np.linalg.solve(R, Q.T @ b)\n",
        "\n",
        "# --- y así para cada método, luego calcule inv_cos_angle(...) ----\n",
        "\n",
        "# Finalmente, imprime:\n",
        "# print(\"1/cos(θ) Triangulación:\", inv_cos_tri)\n",
        "# print(\"1/cos(θ) Normales:   \", inv_cos_en)\n",
        "# print(\"1/cos(θ) Householder:\", inv_cos_hh)\n",
        "# print(\"1/cos(θ) Givens:     \", inv_cos_giv)\n",
        "# print(\"1/cos(θ) Gram-Schmidt:\", inv_cos_gs)\n"
      ]
    }
  ]
}