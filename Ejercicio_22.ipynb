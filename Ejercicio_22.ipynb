{
  "nbformat": 4,
  "nbformat_minor": 0,
  "metadata": {
    "colab": {
      "provenance": [],
      "authorship_tag": "ABX9TyMGo4gifkcqrUHaYV9N0D4X",
      "include_colab_link": true
    },
    "kernelspec": {
      "name": "python3",
      "display_name": "Python 3"
    },
    "language_info": {
      "name": "python"
    }
  },
  "cells": [
    {
      "cell_type": "markdown",
      "metadata": {
        "id": "view-in-github",
        "colab_type": "text"
      },
      "source": [
        "<a href=\"https://colab.research.google.com/github/Diegoarmando24/Tarea-3/blob/main/Ejercicio_22.ipynb\" target=\"_parent\"><img src=\"https://colab.research.google.com/assets/colab-badge.svg\" alt=\"Open In Colab\"/></a>"
      ]
    },
    {
      "cell_type": "code",
      "source": [
        "import numpy as np\n",
        "\n",
        "# Matriz A y vector b\n",
        "A = np.array([[ 1.0,  1.0],\n",
        "              [-1.0,  0.0],\n",
        "              [ 0.0,  1.0],\n",
        "              [ 1.0,  0.0]])\n",
        "b = np.array([-1.0,  2.0, -1.0,  1.0])\n",
        "\n",
        "# 1) Triangulación (supón que ya tienes x_tri en R^2)\n",
        "x_tri = np.array([0.16666667, 0.66666667])\n",
        "b_tilde_tri = np.array([-1.0,  1.0, -2.0,  3.0])\n",
        "\n",
        "# 2) Ecuaciones Normales\n",
        "x_en = np.linalg.solve(A.T @ A, A.T @ b)\n",
        "b_tilde_en = A.dot(x_en)\n",
        "\n",
        "# 3) Householder (QR completo con NumPy)\n",
        "Q, R = np.linalg.qr(A, mode='complete')\n",
        "b_proj = Q.T.dot(b)       # tamaño 4\n",
        "# Las dos primeras entradas de b_proj son las que corresponden a R[:2,:2]\n",
        "b_tilde_hh = b_proj.copy()        # para usar en el coseno\n",
        "x_hh = np.linalg.solve(R[:2, :2], b_proj[:2])\n",
        "\n",
        "# 4) Givens y 5) Gram-Schmidt (supondremos x_giv y x_gs = x_hh)\n",
        "b_tilde_giv = b_tilde_hh.copy()\n",
        "b_tilde_gs  = b_tilde_hh.copy()\n",
        "x_giv = x_hh.copy()\n",
        "x_gs  = x_hh.copy()\n",
        "\n",
        "def inv_cos_angle(b_tilde, x):\n",
        "    Ax = A.dot(x)\n",
        "    cos_theta = np.dot(b_tilde, Ax) / (np.linalg.norm(b_tilde) * np.linalg.norm(Ax))\n",
        "    return 1.0 / cos_theta\n",
        "\n",
        "print(\"1/cos(θ) Triangulación:\", inv_cos_angle(b_tilde_tri, x_tri))\n",
        "print(\"1/cos(θ) Normales:   \", inv_cos_angle(b_tilde_en,  x_en))\n",
        "print(\"1/cos(θ) Householder:\", inv_cos_angle(b_tilde_hh,  x_hh))\n",
        "print(\"1/cos(θ) Givens:     \", inv_cos_angle(b_tilde_giv, x_giv))\n",
        "print(\"1/cos(θ) Gram-Schmidt:\",inv_cos_angle(b_tilde_gs,  x_gs))\n"
      ],
      "metadata": {
        "id": "h4SITJKExdNC"
      },
      "execution_count": null,
      "outputs": []
    }
  ]
}