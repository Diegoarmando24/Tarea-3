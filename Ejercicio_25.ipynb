{
  "nbformat": 4,
  "nbformat_minor": 0,
  "metadata": {
    "colab": {
      "provenance": [],
      "authorship_tag": "ABX9TyOlclEiPIk1XecnNITP5QkD",
      "include_colab_link": true
    },
    "kernelspec": {
      "name": "python3",
      "display_name": "Python 3"
    },
    "language_info": {
      "name": "python"
    }
  },
  "cells": [
    {
      "cell_type": "markdown",
      "metadata": {
        "id": "view-in-github",
        "colab_type": "text"
      },
      "source": [
        "<a href=\"https://colab.research.google.com/github/Diegoarmando24/Tarea-3/blob/main/Ejercicio_25.ipynb\" target=\"_parent\"><img src=\"https://colab.research.google.com/assets/colab-badge.svg\" alt=\"Open In Colab\"/></a>"
      ]
    },
    {
      "cell_type": "code",
      "source": [
        "import numpy as np\n",
        "import matplotlib.pyplot as plt\n",
        "\n",
        "# Función manual para descomposición de Cholesky\n",
        "def cholesky_decomp(M):\n",
        "    \"\"\"\n",
        "    Descompone la matriz simétrica positiva definida M en L @ L.T,\n",
        "    donde L es triangular inferior.\n",
        "    \"\"\"\n",
        "    n = M.shape[0]\n",
        "    L = np.zeros_like(M)\n",
        "    for i in range(n):\n",
        "        for j in range(i + 1):\n",
        "            s = np.dot(L[i, :j], L[j, :j])\n",
        "            if i == j:\n",
        "                # Aseguramos argumento no negativo por errores numéricos\n",
        "                val = M[i, i] - s\n",
        "                L[i, j] = np.sqrt(val if val > 0 else 0.0)\n",
        "            else:\n",
        "                L[i, j] = (M[i, j] - s) / L[j, j]\n",
        "    return L\n",
        "\n",
        "# Generación del conjunto de puntos (t_i, y_i) con perturbación aleatoria pequeña\n",
        "np.random.seed(0)\n",
        "n = 12\n",
        "epsilon = 1e-10\n",
        "t = np.linspace(0, 11, n)\n",
        "x_true = np.ones(n)\n",
        "A = np.vander(t, n, increasing=True)\n",
        "y_true = A.dot(x_true)\n",
        "y = y_true + epsilon * (2*np.random.rand(n) - 1)\n",
        "\n",
        "# Ajuste por Ecuaciones Normales usando la descomposición de Cholesky manual\n",
        "M = A.T @ A\n",
        "c = A.T @ y\n",
        "L = cholesky_decomp(M)               # L tal que L @ L.T ≈ M\n",
        "z = np.linalg.solve(L, c)            # resuelve L z = c\n",
        "x_normales = np.linalg.solve(L.T, z) # resuelve L.T x = z\n",
        "\n",
        "# Ajuste por QR (Householder)\n",
        "Q, R = np.linalg.qr(A)\n",
        "x_qr = np.linalg.solve(R, Q.T @ y)\n",
        "\n",
        "# Comparación con la solución exacta x_j = 1\n",
        "err_normales = np.linalg.norm(x_normales - x_true)\n",
        "err_qr      = np.linalg.norm(x_qr      - x_true)\n",
        "cond_A      = np.linalg.cond(A)\n",
        "\n",
        "print(\"Condición de A:\", cond_A)\n",
        "print(\"Error (Normales):\", err_normales)\n",
        "print(\"Error (QR):      \", err_qr)\n",
        "print(\"Coeficientes (Normales):\", x_normales)\n",
        "print(\"Coeficientes (QR):      \", x_qr)\n",
        "\n",
        "# Visualización del ajuste\n",
        "tt = np.linspace(t.min(), t.max(), 300)\n",
        "y_fit_norm = np.polyval(np.flip(x_normales), tt)\n",
        "y_fit_qr   = np.polyval(np.flip(x_qr),       tt)\n",
        "\n",
        "plt.scatter(t, y, color='red', label=\"Datos con ruido\")\n",
        "plt.plot(tt, y_fit_norm, label=\"Ajuste Normales\")\n",
        "plt.plot(tt, y_fit_qr, '--', label=\"Ajuste QR\")\n",
        "plt.xlabel(\"t\")\n",
        "plt.ylabel(\"y\")\n",
        "plt.title(\"Ajuste polinomio grado 11 con ε=1e-10\")\n",
        "plt.legend()\n",
        "plt.show()\n",
        "\n"
      ],
      "metadata": {
        "id": "n_l0a4joxN8m"
      },
      "execution_count": null,
      "outputs": []
    }
  ]
}