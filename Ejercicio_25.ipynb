{
  "nbformat": 4,
  "nbformat_minor": 0,
  "metadata": {
    "colab": {
      "provenance": [],
      "authorship_tag": "ABX9TyP6OTlmUwlqsDFVpSLI5qH/",
      "include_colab_link": true
    },
    "kernelspec": {
      "name": "python3",
      "display_name": "Python 3"
    },
    "language_info": {
      "name": "python"
    }
  },
  "cells": [
    {
      "cell_type": "markdown",
      "metadata": {
        "id": "view-in-github",
        "colab_type": "text"
      },
      "source": [
        "<a href=\"https://colab.research.google.com/github/Diegoarmando24/Tarea-3/blob/main/Ejercicio_25.ipynb\" target=\"_parent\"><img src=\"https://colab.research.google.com/assets/colab-badge.svg\" alt=\"Open In Colab\"/></a>"
      ]
    },
    {
      "cell_type": "code",
      "execution_count": null,
      "metadata": {
        "id": "Ov4b0xkNvrhI"
      },
      "outputs": [],
      "source": [
        "import numpy as np\n",
        "import matplotlib.pyplot as plt\n",
        "\n",
        "# Generación del conjunto de puntos (t_i, y_i) con perturbación aleatoria pequeña\n",
        "np.random.seed(0)\n",
        "n = 12\n",
        "epsilon = 1e-10\n",
        "t = np.linspace(0, 11, n)                   # 12 puntos equiespaciados de 0 a 11\n",
        "# Coeficientes exactos de la solución (todos 1)\n",
        "x_true = np.ones(n)\n",
        "# Matriz de Vandermonde para polinomio de grado 11\n",
        "A = np.vander(t, n, increasing=True)\n",
        "# Valores exactos y (sin ruido) según el polinomio verdadero\n",
        "y_true = A.dot(x_true)\n",
        "# Agregar perturbación aleatoria de magnitud epsilon a y\n",
        "ruido = epsilon * (2*np.random.rand(n) - 1)  # uniforme en [-epsilon, +epsilon]\n",
        "y = y_true + ruido\n",
        "\n",
        "# Ajuste del polinomio grado 11 usando Ecuaciones Normales (Cholesky)\n",
        "M = A.T @ A\n",
        "c = A.T @ y\n",
        "L = np.linalg.cholesky(M)\n",
        "z = np.linalg.solve(L, c)\n",
        "x_normales = np.linalg.solve(L.T, z)   # coeficientes ajustados por ecuaciones normales\n",
        "\n",
        "# Ajuste del polinomio usando QR (Householder)\n",
        "Q, R = np.linalg.qr(A)\n",
        "x_qr = np.linalg.solve(R, Q.T @ y)     # coeficientes ajustados por QR\n",
        "\n",
        "# Cálculo de la diferencia con respecto a la solución exacta (x_j = 1 para todo j)\n",
        "np.set_printoptions(suppress=True, precision=6)\n",
        "print(\"Diferencia coef (Normales) =\", x_normales - np.ones(n))\n",
        "print(\"Diferencia coef (QR)       =\", x_qr - np.ones(n))\n",
        "\n",
        "# Comparación de sensibilidad: norma del error y número de condición de A\n",
        "err_normales = np.linalg.norm(x_normales - np.ones(n))\n",
        "err_qr = np.linalg.norm(x_qr - np.ones(n))\n",
        "cond_A = np.linalg.cond(A)\n",
        "print(\"Condición de A =\", cond_A)\n",
        "print(\"Norma 2 del error de coef (Normales) =\", err_normales)\n",
        "print(\"Norma 2 del error de coef (QR)       =\", err_qr)\n",
        "\n",
        "# Visualización del ajuste\n",
        "tt = np.linspace(min(t), max(t), 300)\n",
        "# Evaluar los polinomios ajustados en una malla fina de t\n",
        "y_fit_normales = np.polyval(np.flip(x_normales), tt)\n",
        "y_fit_qr = np.polyval(np.flip(x_qr), tt)\n",
        "plt.figure()\n",
        "plt.scatter(t, y, color='red', label=\"Datos con ruido\")\n",
        "plt.plot(tt, y_fit_normales, label=\"Ajuste (Normales)\")\n",
        "plt.plot(tt, y_fit_qr, '--', label=\"Ajuste (QR)\")\n",
        "plt.xlabel(\"t\")\n",
        "plt.ylabel(\"y\")\n",
        "plt.title(\"Ajuste polinomio grado 11 con ruido $\\epsilon=10^{-10}$\")\n",
        "plt.legend()\n",
        "plt.show()\n"
      ]
    }
  ]
}